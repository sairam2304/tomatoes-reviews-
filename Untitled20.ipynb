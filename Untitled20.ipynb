{
 "cells": [
  {
   "cell_type": "code",
   "execution_count": 96,
   "metadata": {},
   "outputs": [
    {
     "name": "stderr",
     "output_type": "stream",
     "text": [
      "[nltk_data] Downloading package stopwords to\n",
      "[nltk_data]     C:\\Users\\DELL\\AppData\\Roaming\\nltk_data...\n",
      "[nltk_data]   Package stopwords is already up-to-date!\n"
     ]
    }
   ],
   "source": [
    "import numpy as np\n",
    "import pandas as pd\n",
    "import matplotlib.pyplot as plt\n",
    "import seaborn as sns\n",
    "from pathlib import Path\n",
    "import glob\n",
    "import cv2\n",
    "import nltk\n",
    "nltk.download('stopwords')\n",
    "from nltk.corpus import stopwords\n",
    "from nltk.stem.porter import PorterStemmer"
   ]
  },
  {
   "cell_type": "code",
   "execution_count": 97,
   "metadata": {},
   "outputs": [],
   "source": [
    "data=pd.read_csv(\"Documents/rt_reviews.csv\",encoding=\"cp1252\")"
   ]
  },
  {
   "cell_type": "code",
   "execution_count": 98,
   "metadata": {},
   "outputs": [
    {
     "data": {
      "text/html": [
       "<div>\n",
       "<style scoped>\n",
       "    .dataframe tbody tr th:only-of-type {\n",
       "        vertical-align: middle;\n",
       "    }\n",
       "\n",
       "    .dataframe tbody tr th {\n",
       "        vertical-align: top;\n",
       "    }\n",
       "\n",
       "    .dataframe thead th {\n",
       "        text-align: right;\n",
       "    }\n",
       "</style>\n",
       "<table border=\"1\" class=\"dataframe\">\n",
       "  <thead>\n",
       "    <tr style=\"text-align: right;\">\n",
       "      <th></th>\n",
       "      <th>Freshness</th>\n",
       "      <th>Review</th>\n",
       "    </tr>\n",
       "  </thead>\n",
       "  <tbody>\n",
       "    <tr>\n",
       "      <th>0</th>\n",
       "      <td>fresh</td>\n",
       "      <td>Manakamana doesn't answer any questions, yet ...</td>\n",
       "    </tr>\n",
       "    <tr>\n",
       "      <th>1</th>\n",
       "      <td>fresh</td>\n",
       "      <td>Wilfully offensive and powered by a chest-thu...</td>\n",
       "    </tr>\n",
       "    <tr>\n",
       "      <th>2</th>\n",
       "      <td>rotten</td>\n",
       "      <td>It would be difficult to imagine material mor...</td>\n",
       "    </tr>\n",
       "    <tr>\n",
       "      <th>3</th>\n",
       "      <td>rotten</td>\n",
       "      <td>Despite the gusto its star brings to the role...</td>\n",
       "    </tr>\n",
       "    <tr>\n",
       "      <th>4</th>\n",
       "      <td>rotten</td>\n",
       "      <td>If there was a good idea at the core of this ...</td>\n",
       "    </tr>\n",
       "  </tbody>\n",
       "</table>\n",
       "</div>"
      ],
      "text/plain": [
       "  Freshness                                             Review\n",
       "0     fresh   Manakamana doesn't answer any questions, yet ...\n",
       "1     fresh   Wilfully offensive and powered by a chest-thu...\n",
       "2    rotten   It would be difficult to imagine material mor...\n",
       "3    rotten   Despite the gusto its star brings to the role...\n",
       "4    rotten   If there was a good idea at the core of this ..."
      ]
     },
     "execution_count": 98,
     "metadata": {},
     "output_type": "execute_result"
    }
   ],
   "source": [
    "data.head()"
   ]
  },
  {
   "cell_type": "code",
   "execution_count": 99,
   "metadata": {},
   "outputs": [
    {
     "name": "stdout",
     "output_type": "stream",
     "text": [
      "<class 'pandas.core.frame.DataFrame'>\n",
      "RangeIndex: 480000 entries, 0 to 479999\n",
      "Data columns (total 2 columns):\n",
      " #   Column     Non-Null Count   Dtype \n",
      "---  ------     --------------   ----- \n",
      " 0   Freshness  480000 non-null  object\n",
      " 1   Review     480000 non-null  object\n",
      "dtypes: object(2)\n",
      "memory usage: 7.3+ MB\n"
     ]
    }
   ],
   "source": [
    "data.info()"
   ]
  },
  {
   "cell_type": "code",
   "execution_count": 100,
   "metadata": {},
   "outputs": [
    {
     "data": {
      "text/plain": [
       "fresh     240000\n",
       "rotten    240000\n",
       "Name: Freshness, dtype: int64"
      ]
     },
     "execution_count": 100,
     "metadata": {},
     "output_type": "execute_result"
    }
   ],
   "source": [
    "data[\"Freshness\"].value_counts()"
   ]
  },
  {
   "cell_type": "code",
   "execution_count": 101,
   "metadata": {},
   "outputs": [
    {
     "data": {
      "text/plain": [
       "Freshness    0\n",
       "Review       0\n",
       "dtype: int64"
      ]
     },
     "execution_count": 101,
     "metadata": {},
     "output_type": "execute_result"
    }
   ],
   "source": [
    "data.isnull().sum()"
   ]
  },
  {
   "cell_type": "code",
   "execution_count": 102,
   "metadata": {},
   "outputs": [],
   "source": [
    "#we need to divide data into three catogoeries\n",
    "size = data.shape[0]\n",
    "\n",
    "train_size = int(size*0.8)\n",
    "dev_size = int(size*0.1)\n",
    "train_data = data.iloc[:train_size,:]\n",
    "dev_data   = data.iloc[train_size:train_size+dev_size+1,:]\n",
    "test_data  = data.iloc[train_size+dev_size:,:]"
   ]
  },
  {
   "cell_type": "code",
   "execution_count": null,
   "metadata": {},
   "outputs": [],
   "source": [
    "#def sentence_split(data):\n",
    "l=data[\"Review\"]\n",
    "b=data[\"Freshness\"]\n",
    "male_corpus=[]\n",
    "for i in l:\n",
    "    message = i.lower()\n",
    "    message = message.split()\n",
    "    ps = PorterStemmer()\n",
    "    all_words = stopwords.words('english')\n",
    "    message = [ps.stem(word) for word in message if not word in set(all_words)]\n",
    "    message = ' '.join(message)\n",
    "    male_corpus.append(message)"
   ]
  },
  {
   "cell_type": "code",
   "execution_count": 68,
   "metadata": {},
   "outputs": [],
   "source": [
    "# def word_count(data):\n",
    "h=[]\n",
    "for i in range(0,len(male_corpus)):\n",
    "    text = male_corpus[i].split(' ')\n",
    "    male_words={}\n",
    "    for word in text:\n",
    "        if word in male_words:\n",
    "            male_words[word]+=1\n",
    "        else:\n",
    "            male_words.update({word:1})\n",
    "    h.append(male_words)"
   ]
  },
  {
   "cell_type": "code",
   "execution_count": 92,
   "metadata": {},
   "outputs": [],
   "source": [
    "# def word_prob(data):\n",
    "b=data[\"Freshness\"]\n",
    "d={}\n",
    "g={}\n",
    "c={}\n",
    "t=0\n",
    "for i in h:\n",
    "    for j in i.keys():\n",
    "        if j in d:\n",
    "            d[j]+=1\n",
    "            if b[t]==\"fresh\" :\n",
    "                if j in g:\n",
    "                    g[j]+=1\n",
    "                else:\n",
    "                    g[j]=1\n",
    "        else:\n",
    "            d[j]=1\n",
    "    t+=1\n",
    "for i in g:\n",
    "    c[i]=g[i]/240000\n",
    "return d,c"
   ]
  },
  {
   "cell_type": "code",
   "execution_count": 83,
   "metadata": {},
   "outputs": [],
   "source": [
    "# def word_prob(data,alpha_smoothing=1):\n",
    "alpha_smoothing=1000\n",
    "db=data.copy()\n",
    "sum,_=word_prob(data)\n",
    "for i in h:\n",
    "    for idx,token in data.iterrows():\n",
    "\n",
    "        token[category] = (token[category] + alpha_smoothing)/(category_sum_dict[category] + vocab_df.shape[0])\n",
    "        word_wise_df.at[idx,category] = token[category]\n",
    "\n"
   ]
  },
  {
   "cell_type": "code",
   "execution_count": null,
   "metadata": {},
   "outputs": [],
   "source": []
  }
 ],
 "metadata": {
  "kernelspec": {
   "display_name": "Python 3 (ipykernel)",
   "language": "python",
   "name": "python3"
  },
  "language_info": {
   "codemirror_mode": {
    "name": "ipython",
    "version": 3
   },
   "file_extension": ".py",
   "mimetype": "text/x-python",
   "name": "python",
   "nbconvert_exporter": "python",
   "pygments_lexer": "ipython3",
   "version": "3.10.10"
  }
 },
 "nbformat": 4,
 "nbformat_minor": 4
}
